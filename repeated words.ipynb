{
 "cells": [
  {
   "cell_type": "code",
   "execution_count": 3,
   "metadata": {},
   "outputs": [
    {
     "name": "stdout",
     "output_type": "stream",
     "text": [
      "{'T': 1, 'h': 2, 'i': 4, 's': 2, 'a': 2, 'p': 3, 'r': 4, 'o': 3, 'g': 1, 'm': 2, 'e': 3, 'x': 1, 'n': 4, 't': 2, 'f': 2, 'u': 1, 'y': 1}\n"
     ]
    }
   ],
   "source": [
    "input_str = \"This is a program experiment for fun in python\"\n",
    "char_count = {}\n",
    "for char in input_str:\n",
    "    if char != \" \":\n",
    "        char_count[char] = char_count.get(char, 0)+1\n",
    "print(char_count)"
   ]
  },
  {
   "cell_type": "code",
   "execution_count": null,
   "metadata": {},
   "outputs": [],
   "source": []
  }
 ],
 "metadata": {
  "kernelspec": {
   "display_name": "Python 3",
   "language": "python",
   "name": "python3"
  },
  "language_info": {
   "codemirror_mode": {
    "name": "ipython",
    "version": 3
   },
   "file_extension": ".py",
   "mimetype": "text/x-python",
   "name": "python",
   "nbconvert_exporter": "python",
   "pygments_lexer": "ipython3",
   "version": "3.8.3"
  }
 },
 "nbformat": 4,
 "nbformat_minor": 4
}
