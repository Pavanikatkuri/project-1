{
 "cells": [
  {
   "cell_type": "code",
   "execution_count": 1,
   "metadata": {},
   "outputs": [
    {
     "name": "stdout",
     "output_type": "stream",
     "text": [
      "This jt a progsbm exqftkngnt fpu guo lp ryuiqq\n"
     ]
    }
   ],
   "source": [
    "input_str = \"This is a program experiment for fun in python\"\n",
    "char_count = {}\n",
    "for i, char in enumerate(input_str):\n",
    "    if char.isalpha():\n",
    "        count = char_count.get(char, 0)\n",
    "        if count > 0:\n",
    "            next_char = chr(ord(char) + count)\n",
    "            input_str = input_str[:i] + next_char + input_str[i+1:]\n",
    "        char_count[char] = count + 1\n",
    "print(input_str)"
   ]
  },
  {
   "cell_type": "code",
   "execution_count": null,
   "metadata": {},
   "outputs": [],
   "source": []
  }
 ],
 "metadata": {
  "kernelspec": {
   "display_name": "Python 3",
   "language": "python",
   "name": "python3"
  },
  "language_info": {
   "codemirror_mode": {
    "name": "ipython",
    "version": 3
   },
   "file_extension": ".py",
   "mimetype": "text/x-python",
   "name": "python",
   "nbconvert_exporter": "python",
   "pygments_lexer": "ipython3",
   "version": "3.8.3"
  }
 },
 "nbformat": 4,
 "nbformat_minor": 4
}
